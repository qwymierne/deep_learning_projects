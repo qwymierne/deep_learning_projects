{
  "nbformat": 4,
  "nbformat_minor": 0,
  "metadata": {
    "colab": {
      "name": "DL_project3.ipynb",
      "version": "0.3.2",
      "provenance": []
    },
    "kernelspec": {
      "name": "python3",
      "display_name": "Python 3"
    },
    "accelerator": "GPU"
  },
  "cells": [
    {
      "cell_type": "markdown",
      "metadata": {
        "id": "rL5GSqBwUwM8",
        "colab_type": "text"
      },
      "source": [
        "# Operacje początkowe\n",
        "Pobranie danych, importy, definicje stałych, podział na zbiór tesotwy i walidacyjny"
      ]
    },
    {
      "cell_type": "code",
      "metadata": {
        "id": "H4D0QjIWsXd3",
        "colab_type": "code",
        "colab": {
          "base_uri": "https://localhost:8080/",
          "height": 204
        },
        "outputId": "bf40dbd1-1a0f-4023-b9cb-b830aa2a09b5"
      },
      "source": [
        "!wget http://2018.poleval.pl/task3/task3_train.txt.gz"
      ],
      "execution_count": 1,
      "outputs": [
        {
          "output_type": "stream",
          "text": [
            "--2019-06-04 14:01:19--  http://2018.poleval.pl/task3/task3_train.txt.gz\n",
            "Resolving 2018.poleval.pl (2018.poleval.pl)... 213.135.36.94\n",
            "Connecting to 2018.poleval.pl (2018.poleval.pl)|213.135.36.94|:80... connected.\n",
            "HTTP request sent, awaiting response... 200 OK\n",
            "Length: 1280259946 (1.2G) [application/x-gzip]\n",
            "Saving to: ‘task3_train.txt.gz’\n",
            "\n",
            "task3_train.txt.gz  100%[===================>]   1.19G  21.0MB/s    in 67s     \n",
            "\n",
            "2019-06-04 14:02:27 (18.2 MB/s) - ‘task3_train.txt.gz’ saved [1280259946/1280259946]\n",
            "\n"
          ],
          "name": "stdout"
        }
      ]
    },
    {
      "cell_type": "code",
      "metadata": {
        "id": "kfI2DzbBxh2v",
        "colab_type": "code",
        "colab": {}
      },
      "source": [
        "import gzip\n",
        "import re\n",
        "import random\n",
        "import unicodedata\n",
        "import string\n",
        "from functools import reduce\n",
        "\n",
        "import numpy as np\n",
        "import matplotlib.pyplot as plt\n",
        "from sklearn.model_selection import train_test_split\n",
        "from sklearn.manifold import TSNE\n",
        "\n",
        "import torch\n",
        "import torchvision\n",
        "import torchvision.transforms as transforms\n",
        "import torch.nn as nn\n",
        "import torch.nn.functional as F\n",
        "import torch.optim as optim\n",
        "from torch.autograd import Variable\n",
        "from torch.utils.data import Dataset, DataLoader, ConcatDataset\n",
        "\n",
        "device = torch.device(\"cuda\")"
      ],
      "execution_count": 0,
      "outputs": []
    },
    {
      "cell_type": "code",
      "metadata": {
        "id": "Mtie_RE4EGgW",
        "colab_type": "code",
        "colab": {}
      },
      "source": [
        "MASK = 'xxxxxx'\n",
        "ALL_LETTERS = string.ascii_lowercase + \"ąćęłńóśżź\"\n",
        "N_LETTERS = len(ALL_LETTERS)\n",
        "\n",
        "LEARNING_RATE = 0.05\n",
        "\n",
        "WE_HIDDEN_DIM = 5\n",
        "WE_MID = 10\n",
        "WE_OUTPUT = 12\n",
        "MLM_EMBEDDING_SIZE = 5\n",
        "MLM_HIDDEN_SIZE = 7\n",
        "MLM_LSTM_LAYERS = 2\n",
        "MLM_FC_1 = 8\n",
        "MLM_OUTPUT = 20"
      ],
      "execution_count": 0,
      "outputs": []
    },
    {
      "cell_type": "code",
      "metadata": {
        "id": "9SRm3CCase-Z",
        "colab_type": "code",
        "colab": {}
      },
      "source": [
        "f = gzip.open('task3_train.txt.gz', 'rb')\n",
        "file_content = f.read()\n",
        "f.close()"
      ],
      "execution_count": 0,
      "outputs": []
    },
    {
      "cell_type": "code",
      "metadata": {
        "id": "82mFRNBvtWXc",
        "colab_type": "code",
        "colab": {}
      },
      "source": [
        "sentences = file_content.split(b'\\n')\n",
        "sentences_small = sentences[:50000]\n",
        "del sentences\n",
        "sentences_small = [s.decode(\"utf-8\") for s in sentences_small]\n",
        "sentences_train, sentences_test = train_test_split(sentences_small,\n",
        "                                                   test_size=0.2,\n",
        "                                                   shuffle=True,\n",
        "                                                   random_state=666)"
      ],
      "execution_count": 0,
      "outputs": []
    },
    {
      "cell_type": "markdown",
      "metadata": {
        "id": "-tUZFAfsVBxH",
        "colab_type": "text"
      },
      "source": [
        "# Klasa CorpusPreprocessor\n",
        "wraz z wymaganymi metodami i kilkoma innymi"
      ]
    },
    {
      "cell_type": "code",
      "metadata": {
        "id": "NJDkE6C8t2H6",
        "colab_type": "code",
        "colab": {}
      },
      "source": [
        "class CorpusPreprocessor:\n",
        "\n",
        "    def __init__(self, corpus, mask=MASK):\n",
        "        self.words = list(set(reduce((lambda x, y: x + ' ' + y),\n",
        "                                     (map(self.transform_text, corpus))\n",
        "                                    ).split(' ')) | {mask})\n",
        "        self.words_mapping = dict(zip(self.words, range(len(self.words))))\n",
        "        self.mask = mask\n",
        "\n",
        "    @staticmethod\n",
        "    def transform_text(text):\n",
        "        text = text.lower()\n",
        "        text = re.sub(r'[^a-ząćęłńóśżź ]', '', text)\n",
        "        return ' '.join(text.split())\n",
        "\n",
        "    def mask_text(self, text):\n",
        "        words = text.split(' ')\n",
        "        changed_index = random.randrange(len(words))\n",
        "        original_word = words[changed_index]\n",
        "        words[changed_index] = self.mask\n",
        "        if random.uniform(0, 1) < 0.5:\n",
        "            return ' '.join(words), original_word, 1\n",
        "        else:\n",
        "            return ' '.join(words), random.choice(self.words), 0\n",
        "    \n",
        "    @staticmethod\n",
        "    def text_to_tensor(text_batch):\n",
        "        lengths = [len(t) for t in text_batch]\n",
        "        longest = max(lengths)\n",
        "        tensor = torch.zeros(longest, len(text_batch), N_LETTERS)\n",
        "        for ti, text in enumerate(text_batch):\n",
        "          for li, letter in enumerate(text):\n",
        "              tensor[li][ti][ALL_LETTERS.find(letter)] = 1\n",
        "        return tensor, torch.tensor(lengths, requires_grad=False).reshape(-1, 1).float()\n",
        "      \n",
        "    def map_sentence(self, sentences_batch):\n",
        "        sentences_splitted = [s.split(' ') for s in sentences_batch]\n",
        "        lengths = [len(s) for s in sentences_splitted]\n",
        "        longest = max(lengths)\n",
        "        tensor = torch.zeros(len(sentences_batch), longest)\n",
        "        for si, sentence in enumerate(sentences_splitted):\n",
        "            for wi, word in enumerate(sentence):\n",
        "                tensor[si][wi] = self.words_mapping.setdefault(word, -1)\n",
        "        return tensor.long(), torch.tensor(lengths, requires_grad=False).reshape(-1, 1).float()"
      ],
      "execution_count": 0,
      "outputs": []
    },
    {
      "cell_type": "markdown",
      "metadata": {
        "id": "guZ5w1uuVNLJ",
        "colab_type": "text"
      },
      "source": [
        "# Sieć WordEmbedder"
      ]
    },
    {
      "cell_type": "code",
      "metadata": {
        "id": "VA3_YXUpuo-T",
        "colab_type": "code",
        "colab": {}
      },
      "source": [
        "class WordEmbedder(nn.Module):\n",
        "    def __init__(self):\n",
        "        super(WordEmbedder, self).__init__()\n",
        "        self.lstm = nn.LSTM(N_LETTERS, WE_HIDDEN_DIM)\n",
        "        self.fc1 = nn.Linear(WE_HIDDEN_DIM, WE_MID)\n",
        "        self.fc2 = nn.Linear(WE_MID, WE_OUTPUT)\n",
        "\n",
        "    def forward(self, words_batch):\n",
        "        x, l = CorpusPreprocessor.text_to_tensor(words_batch)\n",
        "        x, l = x.to(device), l.to(device)\n",
        "        x, _ = self.lstm(x)\n",
        "        x = x.sum(0)\n",
        "        x = x / l \n",
        "        x = F.relu(self.fc1(x))\n",
        "        x = self.fc2(x)\n",
        "        return x"
      ],
      "execution_count": 0,
      "outputs": []
    },
    {
      "cell_type": "markdown",
      "metadata": {
        "id": "_ALjI1zKVRsO",
        "colab_type": "text"
      },
      "source": [
        "# Sieć MainLanguageModel"
      ]
    },
    {
      "cell_type": "code",
      "metadata": {
        "id": "V90rh4HxvI_q",
        "colab_type": "code",
        "colab": {}
      },
      "source": [
        "class MainLanguageModel(nn.Module):\n",
        "    def __init__(self, corpus_preprocessor):\n",
        "        super(MainLanguageModel, self).__init__()\n",
        "        self.corpus_preprocessor = corpus_preprocessor\n",
        "        self.embedder = nn.Embedding(len(corpus_preprocessor.words_mapping) + 1,\n",
        "                                     MLM_EMBEDDING_SIZE)\n",
        "        self.bi_dir_lstm = nn.LSTM(MLM_EMBEDDING_SIZE, MLM_HIDDEN_SIZE,\n",
        "                                   MLM_LSTM_LAYERS, batch_first=True,\n",
        "                                   bidirectional=True)\n",
        "        self.fc1 = nn.Linear(2 * MLM_HIDDEN_SIZE, MLM_FC_1)\n",
        "        self.fc2 = nn.Linear(WE_OUTPUT + MLM_FC_1, MLM_OUTPUT)\n",
        "        \n",
        "\n",
        "    def forward(self, embedded_word, sentences):\n",
        "        x, l = self.corpus_preprocessor.map_sentence(sentences)\n",
        "        x, l = x.to(device), l.to(device)\n",
        "        x = self.embedder(x)\n",
        "        x, _ = self.bi_dir_lstm(x)\n",
        "        x = x.sum(1)\n",
        "        x = x / l\n",
        "        x = F.relu(self.fc1(x))\n",
        "        x = torch.cat((embedded_word, x), 1)\n",
        "        x = torch.tanh(self.fc2(x))\n",
        "        return x"
      ],
      "execution_count": 0,
      "outputs": []
    },
    {
      "cell_type": "markdown",
      "metadata": {
        "id": "G97w91X7Vtci",
        "colab_type": "text"
      },
      "source": [
        "# Sieć ModelWrapper\n",
        "łączy obie powyższe sieci"
      ]
    },
    {
      "cell_type": "code",
      "metadata": {
        "id": "XMnvpr0Y53s_",
        "colab_type": "code",
        "colab": {}
      },
      "source": [
        "class ModelWrapper(nn.Module):\n",
        "    def __init__(self, word_embedder, main_language_model):\n",
        "        super().__init__()\n",
        "        self.word_embedder = word_embedder\n",
        "        self.main_language_model = main_language_model\n",
        "        self.fc = nn.Linear(MLM_OUTPUT, 1)\n",
        "        \n",
        "\n",
        "    def forward(self, word, sentence):\n",
        "        embedding = self.word_embedder(word)\n",
        "        x = self.main_language_model(embedding, sentence)\n",
        "        x = self.fc(x)\n",
        "        return torch.sigmoid(x).reshape(-1)"
      ],
      "execution_count": 0,
      "outputs": []
    },
    {
      "cell_type": "markdown",
      "metadata": {
        "id": "S0NyQbabWBDm",
        "colab_type": "text"
      },
      "source": [
        "# Definicje Datasetów\n",
        "używanych dlaej"
      ]
    },
    {
      "cell_type": "code",
      "metadata": {
        "id": "A4VM2_lNgz7y",
        "colab_type": "code",
        "colab": {}
      },
      "source": [
        "class SentencesDataset(Dataset):\n",
        "\n",
        "    def __init__(self, sentences_list, corpus_preprocessor):\n",
        "\n",
        "        self.sentences_list = sentences_list\n",
        "        self.corpus_preprocessor = corpus_preprocessor\n",
        "\n",
        "    def __len__(self):\n",
        "        return len(self.sentences_list)\n",
        "\n",
        "    def __getitem__(self, idx):\n",
        "        sentence = self.sentences_list[idx]\n",
        "        sentence = self.corpus_preprocessor.transform_text(sentence)\n",
        "        return self.corpus_preprocessor.mask_text(sentence)"
      ],
      "execution_count": 0,
      "outputs": []
    },
    {
      "cell_type": "code",
      "metadata": {
        "id": "RjnX90B3DpEY",
        "colab_type": "code",
        "colab": {}
      },
      "source": [
        "class WordsDataset(Dataset):\n",
        "\n",
        "    def __init__(self, words_group):\n",
        "        self.words = [(k, v) for k in words_group for v in words_group[k]]\n",
        "\n",
        "    def __len__(self):\n",
        "        return len(self.words)\n",
        "\n",
        "    def __getitem__(self, idx):\n",
        "        return self.words[idx]"
      ],
      "execution_count": 0,
      "outputs": []
    },
    {
      "cell_type": "markdown",
      "metadata": {
        "id": "WtDJXHXTbzva",
        "colab_type": "text"
      },
      "source": [
        "# Stworzenie używanych zmiennych"
      ]
    },
    {
      "cell_type": "code",
      "metadata": {
        "id": "7ReP9sVMiHjE",
        "colab_type": "code",
        "colab": {}
      },
      "source": [
        "we = WordEmbedder()\n",
        "corpus_preprocessor = CorpusPreprocessor(sentences_small)\n",
        "mlm = MainLanguageModel(corpus_preprocessor)\n",
        "mw = ModelWrapper(we, mlm)"
      ],
      "execution_count": 0,
      "outputs": []
    },
    {
      "cell_type": "code",
      "metadata": {
        "id": "ZSw1-5vZitzr",
        "colab_type": "code",
        "colab": {}
      },
      "source": [
        "train_set = SentencesDataset(sentences_train, corpus_preprocessor)\n",
        "train_loader = torch.utils.data.DataLoader(\n",
        "        train_set,\n",
        "        batch_size=120,\n",
        "        num_workers=0,\n",
        "        shuffle=True\n",
        "    )\n",
        "\n",
        "\n",
        "test_set = SentencesDataset(sentences_test, corpus_preprocessor)\n",
        "test_loader = torch.utils.data.DataLoader(\n",
        "        test_set,\n",
        "        batch_size=120,\n",
        "        num_workers=0,\n",
        "        shuffle=False\n",
        "    )"
      ],
      "execution_count": 0,
      "outputs": []
    },
    {
      "cell_type": "markdown",
      "metadata": {
        "id": "aTDBFn39iOud",
        "colab_type": "text"
      },
      "source": [
        "# Trenowanie modelu"
      ]
    },
    {
      "cell_type": "code",
      "metadata": {
        "id": "b-2E_yD5f9aC",
        "colab_type": "code",
        "colab": {}
      },
      "source": [
        "def train_model(model, criterion, optimizer, num_of_epochs, train_loader, device):\n",
        "\n",
        "    for epoch in range(num_of_epochs):  # loop over the dataset multiple times\n",
        "        model.train()\n",
        "        running_loss = 0.0\n",
        "        for i, data in enumerate(train_loader):\n",
        "            data_s, data_w, data_out = data\n",
        "            data_out = data_out.float().to(device)\n",
        "            optimizer.zero_grad()\n",
        "\n",
        "            outputs = model(data_w, data_s)\n",
        "            \n",
        "            loss = criterion(outputs, data_out)\n",
        "            loss.backward()\n",
        "            optimizer.step()\n",
        "\n",
        "            # print statistics\n",
        "            running_loss += loss.item()\n",
        "            if i % 100 == 99:  # print every 100 mini-batches\n",
        "                print(f'[{epoch}, {i + 1}] loss: {running_loss / 100}')\n",
        "                running_loss = 0.0\n",
        "        \n",
        "\n",
        "    print('Finished Training')"
      ],
      "execution_count": 0,
      "outputs": []
    },
    {
      "cell_type": "code",
      "metadata": {
        "id": "Xcr7hBhDiRsr",
        "colab_type": "code",
        "colab": {
          "base_uri": "https://localhost:8080/",
          "height": 527
        },
        "outputId": "084ea157-96b2-44f0-a4a9-2b65d409bc93"
      },
      "source": [
        "mw.to(device)\n",
        "print(mw)\n",
        "\n",
        "train_model(\n",
        "    mw,\n",
        "    criterion=nn.BCELoss(),\n",
        "    optimizer=optim.Adam(mw.parameters(), lr=LEARNING_RATE),\n",
        "    num_of_epochs=5,\n",
        "    train_loader=train_loader,\n",
        "    device=device\n",
        ")"
      ],
      "execution_count": 19,
      "outputs": [
        {
          "output_type": "stream",
          "text": [
            "ModelWrapper(\n",
            "  (word_embedder): WordEmbedder(\n",
            "    (lstm): LSTM(35, 5)\n",
            "    (fc1): Linear(in_features=5, out_features=10, bias=True)\n",
            "    (fc2): Linear(in_features=10, out_features=12, bias=True)\n",
            "  )\n",
            "  (main_language_model): MainLanguageModel(\n",
            "    (embedder): Embedding(110895, 5)\n",
            "    (bi_dir_lstm): LSTM(5, 7, num_layers=2, batch_first=True, bidirectional=True)\n",
            "    (fc1): Linear(in_features=14, out_features=8, bias=True)\n",
            "    (fc2): Linear(in_features=20, out_features=20, bias=True)\n",
            "  )\n",
            "  (fc): Linear(in_features=20, out_features=1, bias=True)\n",
            ")\n",
            "[0, 100] loss: 0.576072526872158\n",
            "[0, 200] loss: 0.5753041034936905\n",
            "[0, 300] loss: 0.5687943065166473\n",
            "[1, 100] loss: 0.5711894479393959\n",
            "[1, 200] loss: 0.5667075684666634\n",
            "[1, 300] loss: 0.5673710539937019\n",
            "[2, 100] loss: 0.5679762488603592\n",
            "[2, 200] loss: 0.5653602397441864\n",
            "[2, 300] loss: 0.5649529200792313\n",
            "[3, 100] loss: 0.5559575811028481\n",
            "[3, 200] loss: 0.5622761285305024\n",
            "[3, 300] loss: 0.5668835100531578\n",
            "[4, 100] loss: 0.5613222327828408\n",
            "[4, 200] loss: 0.5666249978542328\n",
            "[4, 300] loss: 0.5692561420798302\n",
            "Finished Training\n"
          ],
          "name": "stdout"
        }
      ]
    },
    {
      "cell_type": "markdown",
      "metadata": {
        "id": "r4BOXCAqWObO",
        "colab_type": "text"
      },
      "source": [
        "# Walidacja modelu"
      ]
    },
    {
      "cell_type": "code",
      "metadata": {
        "id": "xFj-sDJx304u",
        "colab_type": "code",
        "colab": {}
      },
      "source": [
        "def validate(model, valid_loader):\n",
        "\n",
        "    model.eval()\n",
        "    correct = 0\n",
        "    len_tot = 0\n",
        "    baseline = 0\n",
        "\n",
        "    with torch.no_grad():\n",
        "        for i, data in enumerate(valid_loader):\n",
        "                data_s, data_w, data_out = data\n",
        "                baseline += torch.sum(data_out).item()\n",
        "                data_out = data_out.float().to(device)\n",
        "                preds = model(data_w, data_s)\n",
        "                correct += torch.sum((preds.round() - data_out == 0).int()).item()\n",
        "                len_tot += len(preds)\n",
        "    print(f'Baseline: {baseline / len_tot}')\n",
        "    print(f'Accuracy: {correct / len_tot}')\n"
      ],
      "execution_count": 0,
      "outputs": []
    },
    {
      "cell_type": "code",
      "metadata": {
        "id": "uCIFvyVpkpY6",
        "colab_type": "code",
        "colab": {
          "base_uri": "https://localhost:8080/",
          "height": 51
        },
        "outputId": "c927291a-9c7e-4c35-b83a-f143180bd8ec"
      },
      "source": [
        "validate(mw, test_loader)"
      ],
      "execution_count": 22,
      "outputs": [
        {
          "output_type": "stream",
          "text": [
            "Baseline: 0.5075\n",
            "Accuracy: 0.6904\n"
          ],
          "name": "stdout"
        }
      ]
    },
    {
      "cell_type": "markdown",
      "metadata": {
        "id": "4ZcjUJlNWUCs",
        "colab_type": "text"
      },
      "source": [
        "# Wizualizacje embeddingu"
      ]
    },
    {
      "cell_type": "code",
      "metadata": {
        "id": "oaOPrZMvDPVB",
        "colab_type": "code",
        "colab": {}
      },
      "source": [
        "def tsne_plot(words_groups_dict, word_embedder, corpus_preprocessor,\n",
        "              with_annotations=True, with_vectors=False):\n",
        "    \n",
        "    base_dataset = WordsDataset({' ': random.sample(corpus_preprocessor.words,\n",
        "                                                    1000)})\n",
        "    base_loader = torch.utils.data.DataLoader(\n",
        "        base_dataset,\n",
        "        batch_size=120,\n",
        "        num_workers=0,\n",
        "        shuffle=True\n",
        "    )\n",
        "    embeddings_base = []\n",
        "    \n",
        "    word_embedder.eval()\n",
        "    with torch.no_grad():\n",
        "        for i, data in enumerate(base_loader):\n",
        "            _, word = data\n",
        "            embedding_base = word_embedder(word)\n",
        "            embeddings_base.append(embedding_base.cpu().numpy())\n",
        "    embeddings_base = np.concatenate(embeddings_base)\n",
        "    \n",
        "    \n",
        "    word_dataset = WordsDataset(words_groups_dict)\n",
        "    word_loader = torch.utils.data.DataLoader(\n",
        "        word_dataset,\n",
        "        batch_size=120,\n",
        "        num_workers=0,\n",
        "        shuffle=True\n",
        "    )\n",
        "    \n",
        "    categories = []\n",
        "    words = []\n",
        "    embeddings = []\n",
        "\n",
        "    with torch.no_grad():\n",
        "        for i, data in enumerate(word_loader):\n",
        "            category, word = data\n",
        "            categories += category\n",
        "            words += word\n",
        "            embedding = word_embedder(word)\n",
        "            embeddings.append(embedding.cpu().numpy())\n",
        "    embeddings = np.concatenate(embeddings)\n",
        "    \n",
        "    \n",
        "    tsne = TSNE(n_components=2, verbose=0, perplexity=30, n_iter=4000,\n",
        "                learning_rate=400)\n",
        "    tsne_res = tsne.fit_transform(np.concatenate([embeddings_base, embeddings]))\n",
        "    tsne_embeddings = tsne_res[len(embeddings_base):]\n",
        "    \n",
        "    points_labels = list(zip(categories, words, tsne_embeddings[:, 0],\n",
        "                             tsne_embeddings[:, 1]))\n",
        "\n",
        "        \n",
        "    for cat in words_groups_dict:\n",
        "        x_vals = [pl[2] for pl in points_labels if pl[0] == cat]\n",
        "        y_vals = [pl[3] for pl in points_labels if pl[0] == cat]\n",
        "        plt.scatter(x_vals, y_vals, label=cat, alpha=0.5, s=40.)\n",
        "        if with_annotations:\n",
        "            annotations = [pl[1] for pl in points_labels if pl[0] == cat]\n",
        "            for i, txt in enumerate(annotations):\n",
        "                plt.annotate(txt, (x_vals[i], y_vals[i]))\n",
        "                \n",
        "    if with_vectors:\n",
        "        zero = [0.] * len(points_labels)\n",
        "        _, _, x_vec, y_vec = list(zip(*points_labels))\n",
        "        vector_coords = zip(zero, zero, x_vec, y_vec)\n",
        "        for z1, z2, x, y in vector_coords:\n",
        "            plt.arrow(z1, z2, x, y, head_width=0.5, head_length=0.5)\n",
        "        plt.xlim(-1.1 * max(map(abs, x_vec)), 1.1 * max(map(abs, x_vec)))\n",
        "        plt.ylim(-1.1 * max(map(abs, y_vec)), 1.1 * max(map(abs, y_vec)))\n",
        "    plt.legend()\n",
        "    plt.show()\n",
        "    "
      ],
      "execution_count": 0,
      "outputs": []
    },
    {
      "cell_type": "markdown",
      "metadata": {
        "id": "hKxtczDIWdh8",
        "colab_type": "text"
      },
      "source": [
        "## Porównanie embeddingów na różnych częściach mowy\n",
        "Jak widzimy sieć potrafi po części odróżniać przymiotniki od pozostałych dwóch cześci mowy"
      ]
    },
    {
      "cell_type": "code",
      "metadata": {
        "id": "6JhL8srBHs3F",
        "colab_type": "code",
        "colab": {
          "base_uri": "https://localhost:8080/",
          "height": 269
        },
        "outputId": "a10585b9-a550-4915-d794-479792f5959c"
      },
      "source": [
        "type_groups = {\n",
        "'rzeczowniki': ['nauczyciel', 'dziecko', 'ania', 'stół', 'książka', 'spodnie', \n",
        "               'pies', 'krowa', 'mrówka', 'wierzba', 'kwiatek', 'pszenica', \n",
        "               'park', 'piwnica', 'księgarnia', 'miłość', 'mądrość',\n",
        "               'zdziwienie', 'burza', 'powódź', 'wiatr', 'strażak', 'chłopiec', \n",
        "               'pisarz', 'listonosz', 'ksiądz', 'tata', 'człowiek', 'dom', \n",
        "               'wieś', 'miasto', 'kraj', 'kwiat', 'samochód', 'serce', 'świece',\n",
        "               'komputer', 'pies', 'miejscowość', 'hotel'],\n",
        "\n",
        "'czasowniki': ['pisać', 'jeść', 'czytać', 'pływać', 'biegać', 'chorować',\n",
        "              'siedzieć', 'spać', 'cierpieć', 'wisieć', 'mądrzeć', 'dorastać',\n",
        "              'dojrzewać', 'myśleć', 'być', 'żyć', 'pamiętać', 'potknąć', \n",
        "              'upaść', 'spaść', 'spotkać', 'uderzyć', 'błyska', 'chmurzy',\n",
        "              'grzmieć', 'świecić', 'wrzeć', 'palić'],\n",
        "\n",
        "'przymiotniki': ['drewniany', 'zielony', 'szeroki', 'francuski', 'ładny', \n",
        "                'mądry', 'grzeczny', 'wspaniały', 'brzydki', 'głupi', \n",
        "                'niegrzeczny', 'beznadziejny', 'ładniejszy', 'najładniejszy',\n",
        "                'mądrzejszy', 'najmądrzejszy', 'inteligentny', 'uroczy'],\n",
        "}\n",
        "\n",
        "\n",
        "tsne_plot(type_groups, we, corpus_preprocessor, False)"
      ],
      "execution_count": 486,
      "outputs": [
        {
          "output_type": "display_data",
          "data": {
            "image/png": "[encoded data removed]",
            "text/plain": [
              "<Figure size 432x288 with 1 Axes>"
            ]
          },
          "metadata": {
            "tags": []
          }
        }
      ]
    },
    {
      "cell_type": "markdown",
      "metadata": {
        "id": "2_Dz1c7sWyS0",
        "colab_type": "text"
      },
      "source": [
        "## Porównanie embeddingów na trzech grupach zwierząt\n",
        "Jak widzimy sieć potrafi dość skutecznie oddzielać zwierzęta afrykańskie od tych spotykanych w Polsce, ale podział między dzikimi i udomowionymi zwierzętami jest trudniejszy"
      ]
    },
    {
      "cell_type": "code",
      "metadata": {
        "id": "rgKHcfY7PeYB",
        "colab_type": "code",
        "colab": {
          "base_uri": "https://localhost:8080/",
          "height": 269
        },
        "outputId": "701c078d-e961-400c-8190-4970e67e0a5c"
      },
      "source": [
        "animals_groups = {\n",
        "'polskie dzikie': ['dzik', 'wilk', 'niedźwiedź', 'żubr', 'jeż',\n",
        "                   'kret', 'wiewiórka', 'bóbr', 'zając', 'lis', 'kuna', 'wydra',\n",
        "                   'borsuk', 'łasica', 'jeleń', 'sarna', 'łoś', ],\n",
        "\n",
        "'polskie udomowione': ['krowa', 'koń', 'kura', 'kaczka', 'gęś', 'owca', 'świnia',\n",
        "                         'królik', 'koza', 'kot', 'pies', 'chomik'],\n",
        "\n",
        "'afrykańskie': ['lew', 'zebra', 'żyrafa', 'hiena', 'małpa', 'guziec',\n",
        "                'hipopotam', 'nosorożec', 'antylopa', 'gepard', 'gnu',\n",
        "                'surykatka', 'bawół', 'gazela'],\n",
        "\n",
        "}\n",
        "\n",
        "\n",
        "tsne_plot(animals_groups, we, corpus_preprocessor, False, False)"
      ],
      "execution_count": 508,
      "outputs": [
        {
          "output_type": "display_data",
          "data": {
            "image/png": "[encoded data removed]",
            "text/plain": [
              "<Figure size 432x288 with 1 Axes>"
            ]
          },
          "metadata": {
            "tags": []
          }
        }
      ]
    },
    {
      "cell_type": "markdown",
      "metadata": {
        "id": "mViRHBs7bjNn",
        "colab_type": "text"
      },
      "source": [
        "## Porównanie embeddingów na trzech grupach cech przemiotów\n",
        "Jak widzimy sieć potrafi nie potrafi uogólniać cech przedmiotów do wspólnych kategorii"
      ]
    },
    {
      "cell_type": "code",
      "metadata": {
        "id": "Al609ay1Y7iA",
        "colab_type": "code",
        "colab": {
          "base_uri": "https://localhost:8080/",
          "height": 269
        },
        "outputId": "f10fd3b2-c480-4efa-9428-5e2fc5296ca8"
      },
      "source": [
        "features_groups = {\n",
        "'kolory': ['niebieskie', 'zielone', 'czerwone', 'żółte', 'czarne', 'białe', \n",
        "           'złote', 'fioletowe', 'różowe', 'pomarańczowe', 'srebrne', 'brązowe'],\n",
        "\n",
        "'kształty': ['okrągłe', 'kwadratowe', 'prostokątne', 'stożkowate', 'podłużne',\n",
        "             'kuliste', 'trójkątne', 'nieregularne', 'wygięte'],\n",
        "\n",
        "'materiały': ['drewniane', 'metalowe', 'porcelanowe', 'plastikowe', 'papierowe',\n",
        "              'stalowe', 'betonowe', 'kamienne', 'gliniane', 'marmurowe',\n",
        "              'lniane'],\n",
        "\n",
        "}\n",
        "\n",
        "\n",
        "tsne_plot(features_groups, we, corpus_preprocessor, False, False)"
      ],
      "execution_count": 513,
      "outputs": [
        {
          "output_type": "display_data",
          "data": {
            "image/png": "[encoded data removed]",
            "text/plain": [
              "<Figure size 432x288 with 1 Axes>"
            ]
          },
          "metadata": {
            "tags": []
          }
        }
      ]
    },
    {
      "cell_type": "markdown",
      "metadata": {
        "id": "0GoI4yPnXVxb",
        "colab_type": "text"
      },
      "source": [
        "## Porównanie embeddingów na grupach słów o przeciwnym znaczeniu\n",
        "Jak widzimy sieć zauważa w mniejszym lub większym stopniu przeciwieństwa odpowiednich słów"
      ]
    },
    {
      "cell_type": "code",
      "metadata": {
        "id": "ntcJKQWNlWne",
        "colab_type": "code",
        "colab": {
          "base_uri": "https://localhost:8080/",
          "height": 269
        },
        "outputId": "5ce9d6fd-c503-4152-83dd-190d84e401cd"
      },
      "source": [
        "opposites_groups_1 = {\n",
        "  'pozytywne': ['dobry', 'jasny', 'pozytywny', 'przyjazny'],\n",
        "  'negatywne': ['zły', 'ciemny', 'negatwny', 'wrogi'],\n",
        "}\n",
        "\n",
        "tsne_plot(opposites_groups_1, we, corpus_preprocessor, True, True)\n"
      ],
      "execution_count": 509,
      "outputs": [
        {
          "output_type": "display_data",
          "data": {
            "image/png": "[encoded data removed]",
            "text/plain": [
              "<Figure size 432x288 with 1 Axes>"
            ]
          },
          "metadata": {
            "tags": []
          }
        }
      ]
    },
    {
      "cell_type": "code",
      "metadata": {
        "id": "Dv5mS_lFOyug",
        "colab_type": "code",
        "colab": {
          "base_uri": "https://localhost:8080/",
          "height": 269
        },
        "outputId": "df4d8e0d-d6c9-44b1-ef7c-cae6fef56622"
      },
      "source": [
        "opposites_groups_2 = {\n",
        "  'stare': ['stare', 'dawne', 'zużyte'],\n",
        "  'nowe': ['nowe', 'młode', 'świeże'],\n",
        "}\n",
        "\n",
        "tsne_plot(opposites_groups_2, we, corpus_preprocessor, True, True)\n",
        "\n"
      ],
      "execution_count": 510,
      "outputs": [
        {
          "output_type": "display_data",
          "data": {
            "image/png": "[encoded data removed]",
            "text/plain": [
              "<Figure size 432x288 with 1 Axes>"
            ]
          },
          "metadata": {
            "tags": []
          }
        }
      ]
    },
    {
      "cell_type": "markdown",
      "metadata": {
        "id": "VocKZIzFaZYV",
        "colab_type": "text"
      },
      "source": [
        "## Porównanie embeddingów na grupach słów o wspólnym rdzeniu\n",
        "Jak widzimy sieć wykrywa wspólny rdzeń w pewnych słowach, ale w innych ma z tym problem"
      ]
    },
    {
      "cell_type": "code",
      "metadata": {
        "id": "fYb7pkKJ4JH7",
        "colab_type": "code",
        "colab": {
          "base_uri": "https://localhost:8080/",
          "height": 269
        },
        "outputId": "4c503790-1877-4e77-9672-1e01d256d083"
      },
      "source": [
        "common_core_groups_1 = {\n",
        "  'dobro': ['dobry', 'dobro', 'dobroć', 'dobra']\n",
        "}\n",
        "\n",
        "tsne_plot(common_core_groups_1, we, corpus_preprocessor, True, True)"
      ],
      "execution_count": 497,
      "outputs": [
        {
          "output_type": "display_data",
          "data": {
            "image/png": "[encoded data removed]",
            "text/plain": [
              "<Figure size 432x288 with 1 Axes>"
            ]
          },
          "metadata": {
            "tags": []
          }
        }
      ]
    },
    {
      "cell_type": "code",
      "metadata": {
        "id": "1nJ5sq0dRlkN",
        "colab_type": "code",
        "colab": {
          "base_uri": "https://localhost:8080/",
          "height": 269
        },
        "outputId": "1098c566-7dc0-4409-d21b-e3e078946105"
      },
      "source": [
        "common_core_groups_2 = {\n",
        "  'pisać': ['pisać', 'pismo', 'pisarz', 'przepis']\n",
        "}\n",
        "\n",
        "tsne_plot(common_core_groups_2, we, corpus_preprocessor, True, True)"
      ],
      "execution_count": 500,
      "outputs": [
        {
          "output_type": "display_data",
          "data": {
            "image/png": "[encoded data removed]",
            "text/plain": [
              "<Figure size 432x288 with 1 Axes>"
            ]
          },
          "metadata": {
            "tags": []
          }
        }
      ]
    },
    {
      "cell_type": "markdown",
      "metadata": {
        "id": "EKu_BerLazYQ",
        "colab_type": "text"
      },
      "source": [
        "## Porównanie embeddingów na grupach słów różniących się  \"o ten sam wektor\"\n",
        "Jak widzimy sieć nie potrafi wykryć wektora przenoszącego rolę żenską do męskiej, ale potrafi wykryć wektor przenoszący analogie między państwami"
      ]
    },
    {
      "cell_type": "code",
      "metadata": {
        "id": "fHAB2MEAMemj",
        "colab_type": "code",
        "colab": {
          "base_uri": "https://localhost:8080/",
          "height": 269
        },
        "outputId": "d9485590-f115-4f00-8be8-14b79f4b1ea5"
      },
      "source": [
        "men_women_groups = {\n",
        "  'mężczyźni': ['mąż', 'mężczyzna', 'król'],\n",
        "  'kobiety': ['żona', 'kobieta', 'królowa']\n",
        "}\n",
        "\n",
        "tsne_plot(men_women_groups, we, corpus_preprocessor, True, False)"
      ],
      "execution_count": 512,
      "outputs": [
        {
          "output_type": "display_data",
          "data": {
            "image/png": "[encoded data removed]",
            "text/plain": [
              "<Figure size 432x288 with 1 Axes>"
            ]
          },
          "metadata": {
            "tags": []
          }
        }
      ]
    },
    {
      "cell_type": "code",
      "metadata": {
        "id": "EfelHLL6N8x9",
        "colab_type": "code",
        "colab": {
          "base_uri": "https://localhost:8080/",
          "height": 269
        },
        "outputId": "30eebd76-18ab-414c-f517-f0bd1af4614d"
      },
      "source": [
        "countries_groups = {\n",
        "  'polska': ['polska', 'polski', 'warszawa', 'duda'],\n",
        "  'rosja': ['rosja', 'rosyjski', 'moskwa', 'putin']\n",
        "}\n",
        "\n",
        "tsne_plot(countries_groups, we, corpus_preprocessor, True, False)"
      ],
      "execution_count": 502,
      "outputs": [
        {
          "output_type": "display_data",
          "data": {
            "image/png": "[encoded data removed]",
            "text/plain": [
              "<Figure size 432x288 with 1 Axes>"
            ]
          },
          "metadata": {
            "tags": []
          }
        }
      ]
    },
    {
      "cell_type": "markdown",
      "metadata": {
        "id": "Y-NGXlVZbQHv",
        "colab_type": "text"
      },
      "source": [
        "## Porównanie embeddingów na grupach będących synonimami\n",
        "jak widzimy sieć niezbyt dobrze zauważa synonimy"
      ]
    },
    {
      "cell_type": "code",
      "metadata": {
        "id": "JrxDa-NTTQAB",
        "colab_type": "code",
        "colab": {
          "base_uri": "https://localhost:8080/",
          "height": 269
        },
        "outputId": "df121276-6743-4734-d880-dadc0983508a"
      },
      "source": [
        "synonimes_groups = {\n",
        "    'duży': ['duży', 'wielki', 'ogromny', 'spory', 'gigantyczny'],\n",
        "    'mały': ['mały', 'skromny', 'niewielki', 'ciasny', 'nędzny']\n",
        "}\n",
        "tsne_plot(synonimes_groups, we, corpus_preprocessor, True, False)"
      ],
      "execution_count": 504,
      "outputs": [
        {
          "output_type": "display_data",
          "data": {
            "image/png": "[encoded data removed]",
            "text/plain": [
              "<Figure size 432x288 with 1 Axes>"
            ]
          },
          "metadata": {
            "tags": []
          }
        }
      ]
    },
    {
      "cell_type": "code",
      "metadata": {
        "id": "uD2gImm6OETi",
        "colab_type": "code",
        "colab": {}
      },
      "source": [
        ""
      ],
      "execution_count": 0,
      "outputs": []
    }
  ]
}